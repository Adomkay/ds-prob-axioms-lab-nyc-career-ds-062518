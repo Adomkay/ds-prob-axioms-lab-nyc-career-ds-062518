{
 "cells": [
  {
   "cell_type": "markdown",
   "metadata": {},
   "source": [
    "# Probability Axioms Lab"
   ]
  },
  {
   "cell_type": "markdown",
   "metadata": {},
   "source": [
    "##  Exercise 1: the law of relative frequency"
   ]
  },
  {
   "cell_type": "markdown",
   "metadata": {},
   "source": [
    "In this first exercise we'll illustrate the rationale behind the law of relative frequency, \n",
    "\n",
    "$$P(E) = \\lim_{n\\rightarrow\\infty} \\dfrac{S{(n)}}{n}$$\n",
    "\n",
    "Let's throw a dice and let's call our sample space $\\Omega= \\{1, 2, 3, 4 ,5, 6\\}$\n",
    "\n",
    "and let's name the event space \"throwing a number higher than 4\" would result in an event space $E= \\{5,6\\}$. This means that we consider the outcome \"successful\" if a 5 or a 6 is thrown. Just considering the possible outcomes, this means that we have 2 chances out of 6 to throw a 5 or 6, so 1/3 or 0.33333...\n",
    "\n",
    "Let's see if this is what we get when going to a very high value for $n$. "
   ]
  },
  {
   "cell_type": "markdown",
   "metadata": {},
   "source": [
    "First, let's randomly generate values between 1 and 6. You can use `numpy` (imported as `np`) to generate random integers between 1 and 6. You'll generate throwing a dice 10 times first (which is a numpy array containing 10 values between 1 and 6), then 100 times, then 1 million times, then 100 million times, and you can store them in the variables predefined below."
   ]
  },
  {
   "cell_type": "code",
   "execution_count": null,
   "metadata": {},
   "outputs": [],
   "source": [
    "import numpy as np\n",
    "np.random.seed(12345)\n",
    "\n",
    "dice_10 = np.random.randint(1,7,size=10)\n",
    "dice_1k = np.random.randint(1,7,size=1000)\n",
    "dice_1m = np.random.randint(1,7,size=1000000)\n",
    "dice_100m = np.random.randint(1,7,size=100000000)"
   ]
  },
  {
   "cell_type": "markdown",
   "metadata": {},
   "source": [
    "next, let's count the number of \"events\", an event happening when a 5 or a 6 is thrown, and store them in the values below."
   ]
  },
  {
   "cell_type": "code",
   "execution_count": null,
   "metadata": {},
   "outputs": [],
   "source": [
    "event_10 = np.sum(dice_10>4)\n",
    "event_1k = np.sum(dice_1k>4)\n",
    "event_1m = np.sum(dice_1m>4)\n",
    "event_100m = np.sum(dice_100m>4)"
   ]
  },
  {
   "cell_type": "markdown",
   "metadata": {},
   "source": [
    "Next, you'll divide the number of events for each $n$ by the respective values for $n$. What do you see?"
   ]
  },
  {
   "cell_type": "code",
   "execution_count": null,
   "metadata": {},
   "outputs": [],
   "source": [
    "freq_10 = event_10/10\n",
    "freq_1k = event_1k/1000\n",
    "freq_1m = event_1m/1000000\n",
    "freq_100m = event_100m/100000000\n",
    "print(freq_10, freq_1k, freq_1m, freq_100m)"
   ]
  },
  {
   "cell_type": "markdown",
   "metadata": {},
   "source": [
    "## Exercise 2: The Probability Axioms"
   ]
  },
  {
   "cell_type": "markdown",
   "metadata": {},
   "source": [
    "The probability of being an inhabitant for each of the seven continents is given by the following 7 probabilities (rounded up to 3 digits):"
   ]
  },
  {
   "cell_type": "markdown",
   "metadata": {},
   "source": [
    "- P(Africa) = 0.161\n",
    "- P(Antarctica) = 0.000\n",
    "- P(Asia) = 0.598\n",
    "- P(Europe) = 0.10\n",
    "- P(North-America) = 0.078\n",
    "- P(Australia) = 0.005\n",
    "- P(South-America) = 0.057"
   ]
  },
  {
   "cell_type": "markdown",
   "metadata": {},
   "source": [
    "store these values using the variable names below:"
   ]
  },
  {
   "cell_type": "code",
   "execution_count": null,
   "metadata": {},
   "outputs": [],
   "source": [
    "P_afr = 0.161\n",
    "P_ant = 0.000\n",
    "P_as = 0.598\n",
    "P_eur = 0.1\n",
    "P_na = 0.079\n",
    "P_aus = 0.005\n",
    "P_sa = 0.057"
   ]
  },
  {
   "cell_type": "markdown",
   "metadata": {},
   "source": [
    "Now create the sample space set names `continents`. Store the sample space in a numpy array."
   ]
  },
  {
   "cell_type": "code",
   "execution_count": null,
   "metadata": {},
   "outputs": [],
   "source": [
    "continents = np.array([P_afr, P_ant, P_as, P_eur, P_na, P_aus, P_sa])\n",
    "print(continents)"
   ]
  },
  {
   "cell_type": "markdown",
   "metadata": {},
   "source": [
    "The three axioms as seen in the lecture assure us that if we have a sample space $S$ (or $\\Omega$), an event space $E$ and a probability measure $P$, **and** the three probability axioms are fulfilled, $ (\\Omega,E,P)$ is a **probability space**. \n",
    "\n",
    "The third axiom is fairly ad hoc, and you will basically have to deduct from the context whether individual events are independent. It is fairly straightforward, however, that people can not be inhabitants of two continents at the same time, so for now, we will assume that we're good for axiom three.\n",
    "\n",
    "However, we can use the numpy array `continents` to verify if axiom 1 and 2 are fulfilled. Create a function \"axioms\" that returns the message \"We're good!\" if both axiom 1 and 2 are fulfilled, and \"Not quite!\" if that's not the case."
   ]
  },
  {
   "cell_type": "code",
   "execution_count": null,
   "metadata": {},
   "outputs": [],
   "source": [
    "def check_axioms(sample_space):\n",
    "    test_ax1a = (sample_space >= 0).all()\n",
    "    test_ax1b = (sample_space <= 1 ).all()\n",
    "    test_ax2 = np.sum(sample_space) == 1\n",
    "    if (test_ax1a == True) & (test_ax1b == True) & (test_ax2 == True):\n",
    "        return(\"We're good!\")\n",
    "    else:\n",
    "        return(\"Not quite!\")"
   ]
  },
  {
   "cell_type": "markdown",
   "metadata": {},
   "source": [
    "Now test your newly created function out on `continents`"
   ]
  },
  {
   "cell_type": "code",
   "execution_count": null,
   "metadata": {},
   "outputs": [],
   "source": [
    "check_axioms(continents)"
   ]
  },
  {
   "cell_type": "markdown",
   "metadata": {},
   "source": [
    "You want to make sure your test returns `\"Not quite!\"` for the following numpy arrays. Go ahead and test away!"
   ]
  },
  {
   "cell_type": "code",
   "execution_count": null,
   "metadata": {},
   "outputs": [],
   "source": [
    "test_1 = np.array([0.05, 0.2, 0.3, 1.01])\n",
    "test_2 = np.array([0.05, 0.5, 0.6, -0.15])\n",
    "test_3 = np.array([0.043,0.05,.02,0.3,0.2])"
   ]
  },
  {
   "cell_type": "code",
   "execution_count": null,
   "metadata": {},
   "outputs": [],
   "source": [
    "print(check_axioms(test_1))\n",
    "print(check_axioms(test_2))\n",
    "print(check_axioms(test_3))"
   ]
  },
  {
   "cell_type": "markdown",
   "metadata": {},
   "source": [
    "Great! We tested it and seems like our set `continents` is a true probability space."
   ]
  },
  {
   "cell_type": "markdown",
   "metadata": {},
   "source": [
    "## Exercise 3 (extra)"
   ]
  },
  {
   "cell_type": "markdown",
   "metadata": {},
   "source": [
    "Harry Potter example: probability of being assigned to a certain \"house\" (Gryffindor, etc) is 0.25 for each student. \n",
    "\n",
    "Probabilities are independent, and probability axioms can also be tested here."
   ]
  },
  {
   "cell_type": "markdown",
   "metadata": {},
   "source": [
    "# Sources"
   ]
  },
  {
   "cell_type": "markdown",
   "metadata": {},
   "source": [
    "https://en.wikipedia.org/wiki/Probability_axioms\n",
    "\n",
    "https://www.datacamp.com/community/tutorials/statistics-python-tutorial-probability-1\n"
   ]
  }
 ],
 "metadata": {
  "kernelspec": {
   "display_name": "Python 3",
   "language": "python",
   "name": "python3"
  },
  "language_info": {
   "codemirror_mode": {
    "name": "ipython",
    "version": 3
   },
   "file_extension": ".py",
   "mimetype": "text/x-python",
   "name": "python",
   "nbconvert_exporter": "python",
   "pygments_lexer": "ipython3",
   "version": "3.6.4"
  }
 },
 "nbformat": 4,
 "nbformat_minor": 2
}
